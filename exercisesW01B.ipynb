{
 "cells": [
  {
   "attachments": {},
   "cell_type": "markdown",
   "metadata": {},
   "source": [
    "![Astrofisica Computacional](logo.png)"
   ]
  },
  {
   "attachments": {},
   "cell_type": "markdown",
   "metadata": {
    "id": "0NQKBUbAejFV"
   },
   "source": [
    "# Exercises W01B"
   ]
  },
  {
   "cell_type": "markdown",
   "metadata": {
    "id": "QsBlwilWejFZ"
   },
   "source": [
    "**Name:** \n",
    "\n",
    "---"
   ]
  },
  {
   "attachments": {},
   "cell_type": "markdown",
   "metadata": {},
   "source": [
    "## 1. Imagen de Casiopeia A\n",
    "\n",
    "En este ejercicio se continuará con el análisis de los datos del objeto Casiopeia A que se inició en clase.\n",
    "\n",
    "- Lea los datos de Casiopeia A en la tres bandas de energía disponibles (`'casa_0.5-1.5keV.fits.gz'`, `'casa_1.5-3.0keV.fits.gz'` y `'casa_4.0-6.0keV.fits.gz'`).\n",
    "\n",
    "- Realice una imagen de estos datos de Chandra para las tres bandas de energía, una junto a la otra (una fila, tres columnas) y ponga allí la información de la energía en el título de cada subplot.\n",
    "\n",
    "- Obtenga una imagen combinada de los datos de Chandra mediante una composición RGB. Para que la imagen luzca mejor, recomiendo normalizar los datos de cada banda de energía utilizando el valor máximo de la banda respectiva. Para obtener la imágen puede combinar los datos dentro de un arreglo 3d con unaa forma compatible con la función `plt.imshow()` (revise la documentación de `matplotlib`!) o experimente con la función [make_lupton_rgb](http://docs.astropy.org/en/stable/api/astropy.visualization.make_lupton_rgb.html#astropy.visualization.make_lupton_rgb) de `AstroPy`. También puede consultar el [tutorial](http://docs.astropy.org/en/stable/visualization/lupton_rgb.html) en la documentación de `AstroPy`.\n",
    "\n",
    "- Sume los datos de las tres bandas de energía y visualice esta información utilizando la función [plt.imshow()](https://matplotlib.org/devdocs/api/_as_gen/matplotlib.axes.Axes.imshow.html).\n",
    "\n",
    "- Corte la región central de la imagen utilizando la función [astropy.nddata.Cutout2D](http://docs.astropy.org/en/stable/api/astropy.nddata.Cutout2D.html). El tamaño del corte debe ser de  $0.05$ deg $\\times 0.05$ deg alrededor de la posición central de `'Cas A'`). \n",
    "\n",
    "- Encuentre la posición en el cielo del pixel más brillante en esta región cortada. Para ello puede utilizar la funciones  [np.argmax()](https://docs.scipy.org/doc/numpy/reference/generated/numpy.argmax.html) y [np.unravel_index()](https://docs.scipy.org/doc/numpy/reference/generated/numpy.unravel_index.html). **Ayuda:** Asegurese de utilizar los atributos `.data` y `.wcs` actualizados para el objeto `Cutout2D`.\n",
    "   \n",
    "- Ahora se calculará un perfil radial de los datos de la imagen para estimar el tamaño del remanente de supernova. Para ello, defina dos radios (`radius_min` y `radius_max`) alrededor de la posición central de *Cas A*. Tome el radio mínimo como $0$ arcmin  y el radio maximo como $5$ arcmin y divida este rango con al menos 50 puntos intermedios. Sume todos los datos contenidos en cada uno de los anillos. Utilice la función [np.indices()](https://docs.scipy.org/doc/numpy/reference/generated/numpy.indices.html) para obtener arreglos de las posiciones `x` y `y` de los pixeles, las cuales pueden ser transformados en posiciones en el cielo.  **Ayuda**: Puede utilizar un *masking* adecuado de los arreglos de `NumPy` para evitar realizar un loop sobre los radios de los anillos. La función [ndarray.reshape(-1, ...)](https://docs.scipy.org/doc/numpy/reference/generated/numpy.reshape.html#numpy.reshape)puede ser útil para expandir los datos y los radios en una tercera dimensión. "
   ]
  },
  {
   "attachments": {},
   "cell_type": "markdown",
   "metadata": {},
   "source": [
    "## 2. El segundo catálogo Fermi-LAT de fuentes de alta energía (Second Fermi-LAT Catalog of High-Energy Sources **2FHL**)\n",
    "\n",
    "Este catálogo del Large Area Telescope (LAT) que hace parte del Fermi Gamma-ray Space Telescope reporta las ubicaciones, espectros y propiedades de variación de 360 fuentes importantes detectadas en el rango de energias entre $50$ GeV y $2$ TeV durante los primeros 80 meses de la misión Fermi. Este catálogo también incluye 25 objetos extensos espacialmente.\n",
    "\n",
    "\n",
    "Blazars y candidatos a blazars corresponden al 75% del catálogo, indicando que esta clase de fuentes domina las señales de altas energías en el cielo. Los remanentes de Supernova (SNRs) y las nebulosas de viento de pulsars (PWNe) en conjunto corresponden a la segunda clase de objetos principales, con un 10% del catálogo. \n",
    "\n",
    "El catálogo incluye 57 fuentes que no se encontraban en el catalogo 3FGL previo, 130 sourcefuentes que no se incluían en el catálogo 1FHL y 282 fuentes no detectadas por los Imaging Atmospheric Cherenkov Telescopes. Finalmente, el catálogo 2FHL incluye 48 fuentes que no pueden asociarse con objetos emisores de rayos gamma conocidos. \n",
    "\n",
    "El catálogo 2FHL completo puede ser descargado de\n",
    "\n",
    "https://fermi.gsfc.nasa.gov/ssc/data/access/lat/2FHL/\n",
    "\n",
    "Sin embargo, para este ejercicio trabajaremos con una versión reducida denominada 'fermi_2fhl_catalog.fits', incluida en este repositorio.\n",
    "\n",
    "\n",
    "- Lea los datos del catálogo Fermi 2FHL incluidos en el archivo 'fermi_2fhl_catalog.fits' y encuentre la fuente más brillante (los valores de brillo se encuentran en la columna `'Flux50'`). Cuál es el nombre común de éste objeto (columna `'ASSOC'`)? Encuentre todas las fuentes que se ubican dentro de un radio angular de $10$ deg  alrededor de este objeto.\n",
    "\n",
    "\n",
    "- Realice un grafico de todo el cielo (utilizando una proyección `aitoff` en `PyPlot`) con todas las fuentes en el catálogo Fermi 2FHL agrupadas por clase de objeto (i.e. escogiendo un marcador de diferente color para cada clase de objeto). La clase de los objetos se guarda en la columna `'CLASS'`. Existen varias posibilidades para identificar estos grupos. Una de ellas es utilizar [Table.group_by()](http://docs.astropy.org/en/stable/api/astropy.table.Table.html#astropy.table.Table.group_by) seguido de un loop sobre los grupos (consulte la documentación de `AstroPy`!). Otra forma es utilizar un `set` de `Python` para identificar las clases existentes dentro de la columna `'CLASS'`  y luego hacer un loop sobre estos elementos. Puede utilizar `plt.subplot(projection='aitoff')` para iniciar un conjunto de ejes de `matplotlib` con la proyección `'aitoff'`. **Importante:** Nóte que la proyección `'aitoff'` requiere que las posiciones angulares esten dadas en radianes."
   ]
  },
  {
   "cell_type": "markdown",
   "metadata": {},
   "source": []
  }
 ],
 "metadata": {
  "colab": {
   "collapsed_sections": [],
   "name": "Exercises03.ipynb",
   "provenance": []
  },
  "kernelspec": {
   "display_name": "ashcat",
   "language": "python",
   "name": "python3"
  },
  "language_info": {
   "codemirror_mode": {
    "name": "ipython",
    "version": 3
   },
   "file_extension": ".py",
   "mimetype": "text/x-python",
   "name": "python",
   "nbconvert_exporter": "python",
   "pygments_lexer": "ipython3",
   "version": "3.9.5 | packaged by conda-forge | (default, Jun 19 2021, 00:24:55) \n[Clang 11.1.0 ]"
  },
  "vscode": {
   "interpreter": {
    "hash": "7cedb68cf63e90bc16f84e333713309767fdee79fa6bfd701075226f4fc8e495"
   }
  }
 },
 "nbformat": 4,
 "nbformat_minor": 1
}
