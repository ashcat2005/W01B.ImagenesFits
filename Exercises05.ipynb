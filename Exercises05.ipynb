{
 "cells": [
  {
   "cell_type": "markdown",
   "metadata": {
    "id": "0NQKBUbAejFV"
   },
   "source": [
    "# Computational Astrophysics\n",
    "## 05. Exercises"
   ]
  },
  {
   "cell_type": "markdown",
   "metadata": {
    "id": "QsBlwilWejFZ"
   },
   "source": [
    "**Name:** \n",
    "\n",
    "---"
   ]
  },
  {
   "cell_type": "markdown",
   "metadata": {},
   "source": [
    "## 1. Imagen de NGC1300\n",
    "\n",
    "We will use a .fits image of galaxy NGC1300 obtained from the SIMBAD Database. Go to\n",
    "\n",
    "http://cdsportal.u-strasbg.fr/?target=NGC1300\n",
    "\n",
    "In the Tabular Data section, click on the VizieR images tab and download the images corresponding to the filters\n",
    "\n",
    "B (Effective Wavelength midpoint: $445$ nm [blue])\n",
    "\n",
    "I (Effective Wavelength midpoint: $806$ nm [near IR])\n",
    "\n",
    "K (Effective Wavelength midpoint: $2190$ nm [near IR])\n",
    "\n",
    "Obtain a rgb-compound image of the galaxy. Try different values for the parameters *Q* and *stretch* in the `make_lupton_rgb` function until you obtain a good looking image."
   ]
  },
  {
   "cell_type": "markdown",
   "metadata": {},
   "source": [
    "## 2. Image of Casiopeia A\n",
    "\n",
    "In this exercise we continue the analysis of the data for Casiopeia A that we started in class.\n",
    "\n",
    "- Read in the data fo Casiopeia A from the three energy bands (`'casa_0.5-1.5keV.fits.gz'`, `'casa_1.5-3.0keV.fits.gz'` and `'casa_4.0-6.0keV.fits.gz'`).\n",
    "\n",
    "- Make a combined plot of the Chandra data for all energy bands side by side (one row, three columns)and put the energy information in the title of the subplot. \n",
    "\n",
    "- Make a combined RGB image of the Chandra data in different energy bands. You have to renormalize the data per energy band to the maximum value of respective energy band. You may combine the data into a 3d array with a shape that is compatible with `plt.imshow()` (check the matplotlib documentation!) or you can experiment with the Astropy function [make_lupton_rgb](http://docs.astropy.org/en/stable/api/astropy.visualization.make_lupton_rgb.html#astropy.visualization.make_lupton_rgb). You can find a [tutorial in the Astropy documentation](http://docs.astropy.org/en/stable/visualization/lupton_rgb.html).\n",
    "\n",
    "-  Sum up  the data from the three energy bands and plot the summed data using [plt.imshow()](https://matplotlib.org/devdocs/api/_as_gen/matplotlib.axes.Axes.imshow.html).\n",
    "\n",
    "- Cutout the central region of the image using [astropy.nddata.Cutout2D](http://docs.astropy.org/en/stable/api/astropy.nddata.Cutout2D.html) (size of 0.05 deg x 0.05 deg around the position of `'Cas A'`). \n",
    "\n",
    "- Find the sky position of the brightest pixel in the cutout data. You may use  [np.argmax()](https://docs.scipy.org/doc/numpy/reference/generated/numpy.argmax.html) and [np.unravel_index()](https://docs.scipy.org/doc/numpy/reference/generated/numpy.unravel_index.html). **Hint:** Make sure you use the updated `.data` and `.wcs` attributes of the `Cutout2D` object.\n",
    "   \n",
    "- Now, you will calculate a radial profile of the image data to estimate the size of the shell of the supernova remnant. First, define two radii (`radii_min` and `radii_max`) around the center position of *Cas A*. Choose a total minimum radius of `0 arcmin` and total maximum radius of `5 arcmin` and divide this range in 50 steps.  Sum up all the data that is contained in these rings. You can use [np.indices()](https://docs.scipy.org/doc/numpy/reference/generated/numpy.indices.html) to get arrays of x and y pixel positions, that can be transformed into sky positions.  **Hint**: You can use a clever numpy masking and broadcasting to avoid a Python loop over the `radii_min` and `radii_max` arrays. [ndarray.reshape(-1, ...)](https://docs.scipy.org/doc/numpy/reference/generated/numpy.reshape.html#numpy.reshape) might be useful to expand the data and radius arrays to the third dimension). "
   ]
  },
  {
   "cell_type": "markdown",
   "metadata": {},
   "source": [
    "## 2. The Second Fermi-LAT Catalog of High-Energy Sources (2FHL)\n",
    "\n",
    "This catalog of the Fermi Gamma-ray Space Telescope's Large Area Telescope (LAT) sources reports the locations, spectra, and variability properties of 360 sources significantly detected in the 50 GeV – 2 TeV energy range during the first 80 months of the Fermi mission. The catalog includes 25 spatially extended objects.\n",
    "\n",
    "\n",
    "Blazars and blazars candidate accounts for 75% of the catalog indicating that this source class largely dominates the highest-energy LAT sky. SuperNova Remnants (SNRs) and Pulsar Wind Nebulae (PWNe) together make up the second largest source class with 10% of the catalog total. The catalog comprises 57 sources not previously included in the 3FGL Catalog, 130 sources not included in the 1FHL Catalog, and 282 sources not detected by Imaging Atmospheric Cherenkov Telescopes. There are 48 2FHL sources that could not be associated with known gamma-ray emitting objects.\n",
    "\n",
    "The complete 2FHL catalog can be downoaded from\n",
    "\n",
    "https://fermi.gsfc.nasa.gov/ssc/data/access/lat/2FHL/\n",
    "\n",
    "but we provide a custom file here called 'fermi_2fhl_catalog.fits'.\n",
    "\n",
    "\n",
    "- Load the Fermi 2FHL catalog table 'fermi_2fhl_catalog.fits' and find the brighest source (the brightness value is stored in the `'Flux50'` column). What is the common name of the source (column `'ASSOC'`)? Find all sources within 10 deg from the position of this source.\n",
    "\n",
    "\n",
    "- Make an allsky plot (using an `Aitoff` projection in `pyplot`\n",
    ") of all the sources in the Fermi 2FHL catalog grouped by source class (i.e. choose a different marker color for every source class). The class of the sources is stored in the `'CLASS'` column. There are a few possible ways to identify the groups of source class. One of them is to use [Table.group_by()](http://docs.astropy.org/en/stable/api/astropy.table.Table.html#astropy.table.Table.group_by) followed by a loop over the groups (check Astropy documentation!) another way is to use a regular Python `set` to idenfity the unique entries in the `'CLASS'` column and loop over those. You can use `plt.subplot(projection='aitoff')` to instanciate a matplotlib axes with `'Aitoff'` projection. Note that the `'Aitoff'` projection requires angular positions measured in radians."
   ]
  },
  {
   "cell_type": "markdown",
   "metadata": {
    "id": "CrmFChNxejFb"
   },
   "source": [
    "¡¡ Happy Coding !!"
   ]
  }
 ],
 "metadata": {
  "colab": {
   "collapsed_sections": [],
   "name": "Exercises03.ipynb",
   "provenance": []
  },
  "kernelspec": {
   "display_name": "Python 3 (ipykernel)",
   "language": "python",
   "name": "python3"
  },
  "language_info": {
   "codemirror_mode": {
    "name": "ipython",
    "version": 3
   },
   "file_extension": ".py",
   "mimetype": "text/x-python",
   "name": "python",
   "nbconvert_exporter": "python",
   "pygments_lexer": "ipython3",
   "version": "3.9.7"
  }
 },
 "nbformat": 4,
 "nbformat_minor": 1
}
